{
 "cells": [
  {
   "cell_type": "code",
   "execution_count": 25,
   "id": "0f71aa08-f728-4c83-ac9d-1d68abdac960",
   "metadata": {},
   "outputs": [],
   "source": [
    "import psycopg2\n",
    "import psycopg2.extras\n",
    "import os\n",
    "\n",
    "hostname = '' # <--- enter hostname\n",
    "database = '' # <--- enter database name\n",
    "username = '' # <--- enter username\n",
    "pwd = '' # <--- enter password\n",
    "port_id =  # <--- enter port id\n",
    "conn = None\n",
    "path='' # <--- enter diretory path of file(s)\n",
    "\n",
    "try:\n",
    "    with psycopg2.connect(\n",
    "        host = hostname,\n",
    "        dbname = database,\n",
    "        password = pwd,\n",
    "        port = port_id) as conn:\n",
    "    \n",
    "        with conn.cursor(cursor_factory=psycopg2.extras.DictCursor) as cur:\n",
    "\n",
    "            cur.execute('DROP TABLE IF EXISTS polyadb_lr')\n",
    "\n",
    "            #### create table\n",
    "            create_tb = '''CREATE TABLE IF NOT EXISTS polyadb4_lr (\n",
    "                                    key VARCHAR(100) PRIMARY KEY NOT NULL,\n",
    "                                    gene_symbol VARCHAR(40) NOT NULL,\n",
    "                                    PasID VARCHAR(40) NOT NULL,\n",
    "                                    type_main VARCHAR(2) NOT NULL,\n",
    "                                    PSE NUMERIC(4,1) CHECK(PSE >= 0), \n",
    "                                    AvgRPM NUMERIC(10,2) CHECK(AvgRPM >=0), \n",
    "                                    mm10_pAid VARCHAR(40),\n",
    "                                    NumRefSeq NUMERIC(10) CHECK(NumRefSeq >=0), \n",
    "                                    NumLRENCODE NUMERIC(10) CHECK(NumLRENCODE >=0), \n",
    "                                    NumLRGETx NUMERIC(10) CHECK(NumLRGETx >=0),\n",
    "                                    polyAID NUMERIC(5,4) CHECK(polyAID >=0), \n",
    "                                    polyAStrength NUMERIC(10,4),\n",
    "                                    SVM NUMERIC(5,4) CHECK(SVM >=0)\n",
    "                                    )'''\n",
    "            cur.execute(create_tb)\n",
    "\n",
    "            \n",
    "            #### insert data (csv format) into table \n",
    "            for filename in os.listdir(path):\n",
    "                file = path + '/'  + filename\n",
    "                insert_data = f\"COPY polyadb_lr(key, gene_symbol, PasID, type_main, PSE, AvgRPM, mm10_pAid, NumRefSeq, NumLRENCODE, NumLRGETx, polyAID, polyAStrength, SVM) FROM '{file}' DELIMITER ',' CSV HEADER\"\n",
    "                cur.execute(insert_data)\n",
    "\n",
    "            \n",
    "            conn.commit()\n",
    "\n",
    "\n",
    "except Exception as error:\n",
    "    print(error)\n",
    "finally:\n",
    "    if conn is not None:\n",
    "        conn.close()\n"
   ]
  },
  {
   "cell_type": "code",
   "execution_count": null,
   "id": "080d380b-3f3c-4463-b138-a665707cc0ad",
   "metadata": {},
   "outputs": [],
   "source": []
  }
 ],
 "metadata": {
  "kernelspec": {
   "display_name": "Python 3 (ipykernel)",
   "language": "python",
   "name": "python3"
  },
  "language_info": {
   "codemirror_mode": {
    "name": "ipython",
    "version": 3
   },
   "file_extension": ".py",
   "mimetype": "text/x-python",
   "name": "python",
   "nbconvert_exporter": "python",
   "pygments_lexer": "ipython3",
   "version": "3.12.4"
  }
 },
 "nbformat": 4,
 "nbformat_minor": 5
}
